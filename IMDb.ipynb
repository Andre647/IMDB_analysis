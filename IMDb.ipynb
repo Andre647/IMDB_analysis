{
  "nbformat": 4,
  "nbformat_minor": 0,
  "metadata": {
    "colab": {
      "provenance": [],
      "authorship_tag": "ABX9TyMhdcPUKZdleyfdhpaBzt1N",
      "include_colab_link": true
    },
    "kernelspec": {
      "name": "python3",
      "display_name": "Python 3"
    },
    "language_info": {
      "name": "python"
    }
  },
  "cells": [
    {
      "cell_type": "markdown",
      "metadata": {
        "id": "view-in-github",
        "colab_type": "text"
      },
      "source": [
        "<a href=\"https://colab.research.google.com/github/Andre647/Ciencia_de_Dados/blob/main/IMDb.ipynb\" target=\"_parent\"><img src=\"https://colab.research.google.com/assets/colab-badge.svg\" alt=\"Open In Colab\"/></a>"
      ]
    },
    {
      "cell_type": "code",
      "execution_count": 1,
      "metadata": {
        "id": "vVStVyaaNWuT"
      },
      "outputs": [],
      "source": [
        "import pandas as pd\n",
        "import numpy as np\n",
        "import seaborn as sns"
      ]
    },
    {
      "cell_type": "code",
      "source": [
        "t_basic = pd.read_csv('/content/title_basics.tsv', sep = '\t',index_col = 0)\n",
        "t_crew = pd.read_csv('/content/title_crew.tsv', sep = '\t',index_col = 0)\n",
        "t_ratings = pd.read_csv('/content/title_ratings.tsv', sep = '\t',index_col = 0)\n",
        "name_basics = pd.read_csv('/content/name_basics.tsv', sep = '\t',index_col = 0)"
      ],
      "metadata": {
        "id": "4JCXcxXVNek4"
      },
      "execution_count": 10,
      "outputs": []
    },
    {
      "cell_type": "code",
      "source": [
        "#t_basic.head()\n",
        "#t_crew.head()\n",
        "#t_ratings.head()\n",
        "#name_basics.head()"
      ],
      "metadata": {
        "id": "36neoKGkSIwh"
      },
      "execution_count": 33,
      "outputs": []
    },
    {
      "cell_type": "markdown",
      "source": [
        "#Limpando\n",
        "\n",
        "##basics\n",
        "  titleType:\n",
        "    apenas filmes e series? curtas metragem,jogos?\n",
        "    apenas seculo 21? todos os anos?\n",
        "    inserir notas?\n",
        "\n",
        "  originalTitle:\n",
        "    apagar?\n",
        "\n",
        "  isAdult:\n",
        "    apagar?\n",
        "\n",
        "  runtimeMinutes:\n",
        "    apagar?\n",
        "\n",
        "  genres:\n",
        "    dividir em 3?\n",
        "    apagar documentarios? mini series?\n",
        "\n",
        "##crew\n",
        "  join com nomes?\n",
        "\n",
        "##ratings\n",
        "  join com basics?\n",
        "\n",
        "##name_basics\n",
        "  apagar ano nascimento?\n",
        "  ano de morte?\n",
        "  oq fazer com titulos referencia?"
      ],
      "metadata": {
        "id": "j3S0Wrd5VauR"
      }
    }
  ]
}