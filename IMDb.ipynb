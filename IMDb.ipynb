{
  "nbformat": 4,
  "nbformat_minor": 0,
  "metadata": {
    "colab": {
      "provenance": [],
      "authorship_tag": "ABX9TyOyUvkUGdxbXZCqN/UNs0rw",
      "include_colab_link": true
    },
    "kernelspec": {
      "name": "python3",
      "display_name": "Python 3"
    },
    "language_info": {
      "name": "python"
    }
  },
  "cells": [
    {
      "cell_type": "markdown",
      "metadata": {
        "id": "view-in-github",
        "colab_type": "text"
      },
      "source": [
        "<a href=\"https://colab.research.google.com/github/Andre647/Ciencia_de_Dados/blob/main/IMDb.ipynb\" target=\"_parent\"><img src=\"https://colab.research.google.com/assets/colab-badge.svg\" alt=\"Open In Colab\"/></a>"
      ]
    },
    {
      "cell_type": "markdown",
      "source": [
        "#Imports\n"
      ],
      "metadata": {
        "id": "1WKpVp_I-bxd"
      }
    },
    {
      "cell_type": "code",
      "execution_count": null,
      "metadata": {
        "id": "vVStVyaaNWuT"
      },
      "outputs": [],
      "source": [
        "import pandas as pd\n",
        "import numpy as np\n",
        "import seaborn as sns\n",
        "import matplotlib.pyplot as plt"
      ]
    },
    {
      "cell_type": "markdown",
      "source": [
        "#Datasets"
      ],
      "metadata": {
        "id": "4f53AZMd-e8m"
      }
    },
    {
      "cell_type": "code",
      "source": [
        "t_basic = pd.read_csv('/content/title_basics.tsv', sep = '\t',index_col = 0)\n",
        "t_crew = pd.read_csv('/content/title_crew.tsv', sep = '\t',index_col = 0)\n",
        "t_ratings = pd.read_csv('/content/title_ratings.tsv', sep = '\t',index_col = 0)\n",
        "name_basics = pd.read_csv('/content/name_basics.tsv', sep = '\t',index_col = 0)"
      ],
      "metadata": {
        "id": "4JCXcxXVNek4",
        "colab": {
          "base_uri": "https://localhost:8080/"
        },
        "outputId": "f8cf5278-4ebf-4887-9672-4aabeacfc877"
      },
      "execution_count": null,
      "outputs": [
        {
          "output_type": "stream",
          "name": "stderr",
          "text": [
            "<ipython-input-172-50203eb07101>:1: DtypeWarning: Columns (4) have mixed types. Specify dtype option on import or set low_memory=False.\n",
            "  t_basic = pd.read_csv('/content/title_basics.tsv', sep = '\t',index_col = 0)\n"
          ]
        }
      ]
    },
    {
      "cell_type": "code",
      "source": [
        "t_basic.head()\n",
        "#t_crew.head()\n",
        "#t_ratings.head()\n",
        "#name_basics.head()"
      ],
      "metadata": {
        "id": "36neoKGkSIwh",
        "colab": {
          "base_uri": "https://localhost:8080/",
          "height": 238
        },
        "outputId": "306b5dd8-c3d7-49da-de23-1264b75b81c1"
      },
      "execution_count": 135,
      "outputs": [
        {
          "output_type": "execute_result",
          "data": {
            "text/plain": [
              "          titleType                   primaryTitle  startYear       genre1  \\\n",
              "tconst                                                                       \n",
              "tt0000009     movie                     Miss Jerry     1894.0      Romance   \n",
              "tt0000147     movie  The Corbett-Fitzsimmons Fight     1897.0  Documentary   \n",
              "tt0000574     movie    The Story of the Kelly Gang     1906.0       Action   \n",
              "tt0000591     movie               The Prodigal Son     1907.0        Drama   \n",
              "tt0000615     movie             Robbery Under Arms     1907.0        Drama   \n",
              "\n",
              "              genre2     genre3  averageRating  numVotes  \n",
              "tconst                                                    \n",
              "tt0000009       None       None            5.3     204.0  \n",
              "tt0000147       News      Sport            5.3     469.0  \n",
              "tt0000574  Adventure  Biography            6.0     823.0  \n",
              "tt0000591       None       None            4.4      20.0  \n",
              "tt0000615       None       None            4.3      24.0  "
            ],
            "text/html": [
              "\n",
              "  <div id=\"df-22b7344d-c536-4398-bf94-09fcc23cccb5\">\n",
              "    <div class=\"colab-df-container\">\n",
              "      <div>\n",
              "<style scoped>\n",
              "    .dataframe tbody tr th:only-of-type {\n",
              "        vertical-align: middle;\n",
              "    }\n",
              "\n",
              "    .dataframe tbody tr th {\n",
              "        vertical-align: top;\n",
              "    }\n",
              "\n",
              "    .dataframe thead th {\n",
              "        text-align: right;\n",
              "    }\n",
              "</style>\n",
              "<table border=\"1\" class=\"dataframe\">\n",
              "  <thead>\n",
              "    <tr style=\"text-align: right;\">\n",
              "      <th></th>\n",
              "      <th>titleType</th>\n",
              "      <th>primaryTitle</th>\n",
              "      <th>startYear</th>\n",
              "      <th>genre1</th>\n",
              "      <th>genre2</th>\n",
              "      <th>genre3</th>\n",
              "      <th>averageRating</th>\n",
              "      <th>numVotes</th>\n",
              "    </tr>\n",
              "    <tr>\n",
              "      <th>tconst</th>\n",
              "      <th></th>\n",
              "      <th></th>\n",
              "      <th></th>\n",
              "      <th></th>\n",
              "      <th></th>\n",
              "      <th></th>\n",
              "      <th></th>\n",
              "      <th></th>\n",
              "    </tr>\n",
              "  </thead>\n",
              "  <tbody>\n",
              "    <tr>\n",
              "      <th>tt0000009</th>\n",
              "      <td>movie</td>\n",
              "      <td>Miss Jerry</td>\n",
              "      <td>1894.0</td>\n",
              "      <td>Romance</td>\n",
              "      <td>None</td>\n",
              "      <td>None</td>\n",
              "      <td>5.3</td>\n",
              "      <td>204.0</td>\n",
              "    </tr>\n",
              "    <tr>\n",
              "      <th>tt0000147</th>\n",
              "      <td>movie</td>\n",
              "      <td>The Corbett-Fitzsimmons Fight</td>\n",
              "      <td>1897.0</td>\n",
              "      <td>Documentary</td>\n",
              "      <td>News</td>\n",
              "      <td>Sport</td>\n",
              "      <td>5.3</td>\n",
              "      <td>469.0</td>\n",
              "    </tr>\n",
              "    <tr>\n",
              "      <th>tt0000574</th>\n",
              "      <td>movie</td>\n",
              "      <td>The Story of the Kelly Gang</td>\n",
              "      <td>1906.0</td>\n",
              "      <td>Action</td>\n",
              "      <td>Adventure</td>\n",
              "      <td>Biography</td>\n",
              "      <td>6.0</td>\n",
              "      <td>823.0</td>\n",
              "    </tr>\n",
              "    <tr>\n",
              "      <th>tt0000591</th>\n",
              "      <td>movie</td>\n",
              "      <td>The Prodigal Son</td>\n",
              "      <td>1907.0</td>\n",
              "      <td>Drama</td>\n",
              "      <td>None</td>\n",
              "      <td>None</td>\n",
              "      <td>4.4</td>\n",
              "      <td>20.0</td>\n",
              "    </tr>\n",
              "    <tr>\n",
              "      <th>tt0000615</th>\n",
              "      <td>movie</td>\n",
              "      <td>Robbery Under Arms</td>\n",
              "      <td>1907.0</td>\n",
              "      <td>Drama</td>\n",
              "      <td>None</td>\n",
              "      <td>None</td>\n",
              "      <td>4.3</td>\n",
              "      <td>24.0</td>\n",
              "    </tr>\n",
              "  </tbody>\n",
              "</table>\n",
              "</div>\n",
              "      <button class=\"colab-df-convert\" onclick=\"convertToInteractive('df-22b7344d-c536-4398-bf94-09fcc23cccb5')\"\n",
              "              title=\"Convert this dataframe to an interactive table.\"\n",
              "              style=\"display:none;\">\n",
              "        \n",
              "  <svg xmlns=\"http://www.w3.org/2000/svg\" height=\"24px\"viewBox=\"0 0 24 24\"\n",
              "       width=\"24px\">\n",
              "    <path d=\"M0 0h24v24H0V0z\" fill=\"none\"/>\n",
              "    <path d=\"M18.56 5.44l.94 2.06.94-2.06 2.06-.94-2.06-.94-.94-2.06-.94 2.06-2.06.94zm-11 1L8.5 8.5l.94-2.06 2.06-.94-2.06-.94L8.5 2.5l-.94 2.06-2.06.94zm10 10l.94 2.06.94-2.06 2.06-.94-2.06-.94-.94-2.06-.94 2.06-2.06.94z\"/><path d=\"M17.41 7.96l-1.37-1.37c-.4-.4-.92-.59-1.43-.59-.52 0-1.04.2-1.43.59L10.3 9.45l-7.72 7.72c-.78.78-.78 2.05 0 2.83L4 21.41c.39.39.9.59 1.41.59.51 0 1.02-.2 1.41-.59l7.78-7.78 2.81-2.81c.8-.78.8-2.07 0-2.86zM5.41 20L4 18.59l7.72-7.72 1.47 1.35L5.41 20z\"/>\n",
              "  </svg>\n",
              "      </button>\n",
              "      \n",
              "  <style>\n",
              "    .colab-df-container {\n",
              "      display:flex;\n",
              "      flex-wrap:wrap;\n",
              "      gap: 12px;\n",
              "    }\n",
              "\n",
              "    .colab-df-convert {\n",
              "      background-color: #E8F0FE;\n",
              "      border: none;\n",
              "      border-radius: 50%;\n",
              "      cursor: pointer;\n",
              "      display: none;\n",
              "      fill: #1967D2;\n",
              "      height: 32px;\n",
              "      padding: 0 0 0 0;\n",
              "      width: 32px;\n",
              "    }\n",
              "\n",
              "    .colab-df-convert:hover {\n",
              "      background-color: #E2EBFA;\n",
              "      box-shadow: 0px 1px 2px rgba(60, 64, 67, 0.3), 0px 1px 3px 1px rgba(60, 64, 67, 0.15);\n",
              "      fill: #174EA6;\n",
              "    }\n",
              "\n",
              "    [theme=dark] .colab-df-convert {\n",
              "      background-color: #3B4455;\n",
              "      fill: #D2E3FC;\n",
              "    }\n",
              "\n",
              "    [theme=dark] .colab-df-convert:hover {\n",
              "      background-color: #434B5C;\n",
              "      box-shadow: 0px 1px 3px 1px rgba(0, 0, 0, 0.15);\n",
              "      filter: drop-shadow(0px 1px 2px rgba(0, 0, 0, 0.3));\n",
              "      fill: #FFFFFF;\n",
              "    }\n",
              "  </style>\n",
              "\n",
              "      <script>\n",
              "        const buttonEl =\n",
              "          document.querySelector('#df-22b7344d-c536-4398-bf94-09fcc23cccb5 button.colab-df-convert');\n",
              "        buttonEl.style.display =\n",
              "          google.colab.kernel.accessAllowed ? 'block' : 'none';\n",
              "\n",
              "        async function convertToInteractive(key) {\n",
              "          const element = document.querySelector('#df-22b7344d-c536-4398-bf94-09fcc23cccb5');\n",
              "          const dataTable =\n",
              "            await google.colab.kernel.invokeFunction('convertToInteractive',\n",
              "                                                     [key], {});\n",
              "          if (!dataTable) return;\n",
              "\n",
              "          const docLinkHtml = 'Like what you see? Visit the ' +\n",
              "            '<a target=\"_blank\" href=https://colab.research.google.com/notebooks/data_table.ipynb>data table notebook</a>'\n",
              "            + ' to learn more about interactive tables.';\n",
              "          element.innerHTML = '';\n",
              "          dataTable['output_type'] = 'display_data';\n",
              "          await google.colab.output.renderOutput(dataTable, element);\n",
              "          const docLink = document.createElement('div');\n",
              "          docLink.innerHTML = docLinkHtml;\n",
              "          element.appendChild(docLink);\n",
              "        }\n",
              "      </script>\n",
              "    </div>\n",
              "  </div>\n",
              "  "
            ]
          },
          "metadata": {},
          "execution_count": 135
        }
      ]
    },
    {
      "cell_type": "markdown",
      "source": [
        "#Limpeza dataset t_basic"
      ],
      "metadata": {
        "id": "PBEKb4D4-kcp"
      }
    },
    {
      "cell_type": "code",
      "source": [
        "  # separa o genero em 3 colunas\n",
        "t_basic[['genre1', 'genre2', 'genre3']] = t_basic['genres'].str.split(',', expand=True)\n",
        "\n",
        "  # colunas não usadas\n",
        "t_basic = t_basic.drop(['originalTitle','genres','isAdult','endYear','runtimeMinutes'],axis = 1)\n",
        "\n",
        "  # apaga valores que não serão usados\n",
        "cortados = t_basic['titleType'].isin(['short','tvShort','tvMiniSeries','tvSpecial','video','videoGame','nan'])\n",
        "t_basic = t_basic.drop(t_basic[cortados].index)\n",
        "\n",
        "  # apaga valores nulos na coluna de genero\n",
        "limpeza = t_basic['genre1'].isin(['\\\\N'])\n",
        "t_basic = t_basic.drop(t_basic[limpeza].index)\n",
        "\n",
        " # adiciona as notas aos filmes\n",
        "t_basic = pd.merge(t_basic, t_ratings, on='tconst', how='left')\n",
        "\n",
        " # transforma ano em numerico\n",
        "t_basic['startYear'] = pd.to_numeric(t_basic['startYear'], errors='coerce')"
      ],
      "metadata": {
        "id": "Luph6vZIAlhQ"
      },
      "execution_count": 169,
      "outputs": []
    },
    {
      "cell_type": "markdown",
      "source": [
        "#Função que retorna os dez filmes mais bem avaliados para um genero\n",
        "(consideramos no minimo 50 000 avaliações)"
      ],
      "metadata": {
        "id": "lFhDdn_9AX6k"
      }
    },
    {
      "cell_type": "code",
      "source": [
        "def top_filmes_genero(df, genero_especifico):\n",
        "    \n",
        "    #concatena as colunas de genero\n",
        "    df1 = df[(df['genre1'] == genero_especifico) & (t_basic['numVotes'] > 50000.0)]\n",
        "    df2 = df[(df['genre2'] == genero_especifico) & (t_basic['numVotes'] > 50000.0)]\n",
        "    df3 = df[(df['genre3'] == genero_especifico) & (t_basic['numVotes'] > 50000.0)]\n",
        "    df_genero = pd.concat([df1 ,df2 ,df3 ])\n",
        "    \n",
        "    #ordena os melhores e separa os 5\n",
        "    df_ordenado = df_genero.sort_values('averageRating', ascending=False)\n",
        "    top_10_filmes = df_ordenado.head(10)[['primaryTitle','averageRating']]\n",
        "    \n",
        "    return top_10_filmes\n",
        "\n",
        "def exibicao(df):\n",
        "\n",
        "  #caixa de texto\n",
        "  texto_digitado = input('Digite qual genênero você deseja conhecer os melhores filmes: ').capitalize()\n",
        "\n",
        "  #controle\n",
        "  valores_coluna1 = t_basic['genre1'].unique()\n",
        "  valores_coluna2 = t_basic['genre2'].unique()\n",
        "  valores_coluna3 = t_basic['genre3'].unique()\n",
        "  genero = set(np.concatenate((valores_coluna1, valores_coluna2, valores_coluna3)))\n",
        "\n",
        "  if texto_digitado not in genero:\n",
        "    return 0\n",
        "  else:\n",
        "    # grafico\n",
        "    top_10_filmes = top_filmes_genero(df,texto_digitado)\n",
        "    sns.barplot(x = 'averageRating',y = 'primaryTitle', palette = 'mako',data = top_10_filmes)\n",
        "    #plt.xlim(8, 10)\n",
        "    return 1"
      ],
      "metadata": {
        "id": "Y30pGYDJmJ2E"
      },
      "execution_count": 170,
      "outputs": []
    },
    {
      "cell_type": "markdown",
      "source": [
        "##Escolha entre estes generos apresentados:\n",
        "\n",
        "Action, Adult, Adventure, Animation,\n",
        "\n",
        "Biography, Comedy, Crime, Documentary,\n",
        "\n",
        "Drama, Family, Fantasy, Film-Noir, Game-Show,\n",
        "\n",
        "History, Horror, Music, Musical, Mystery,\n",
        "\n",
        "News, Reality-TV, Romance, Sci-Fi, Short, Sport,\n",
        "\n",
        "Talk-Show, Thriller, War, Western,"
      ],
      "metadata": {
        "id": "17Wbp3mRaPxQ"
      }
    },
    {
      "cell_type": "code",
      "source": [
        "exibicao(t_basic)"
      ],
      "metadata": {
        "colab": {
          "base_uri": "https://localhost:8080/",
          "height": 484
        },
        "id": "z6wAjZXZ176w",
        "outputId": "7e184b8c-6b4e-437c-d16a-ec670512f7fb"
      },
      "execution_count": 171,
      "outputs": [
        {
          "name": "stdout",
          "output_type": "stream",
          "text": [
            "Digite qual genênero você deseja conhecer os melhores filmes: animation\n"
          ]
        },
        {
          "output_type": "execute_result",
          "data": {
            "text/plain": [
              "1"
            ]
          },
          "metadata": {},
          "execution_count": 171
        },
        {
          "output_type": "display_data",
          "data": {
            "text/plain": [
              "<Figure size 640x480 with 1 Axes>"
            ],
            "image/png": "[encoded data removed]"
          },
          "metadata": {}
        }
      ]
    },
    {
      "cell_type": "markdown",
      "source": [
        "#Limpando\n",
        "\n",
        "##basics\n",
        "  titleType:\n",
        "    apenas filmes e series? curtas metragem,jogos?\n",
        "    apenas seculo 21? todos os anos?\n",
        "    inserir notas?\n",
        "\n",
        "  originalTitle:\n",
        "    apagar?\n",
        "\n",
        "  isAdult:\n",
        "    apagar?\n",
        "\n",
        "  runtimeMinutes:\n",
        "    apagar?\n",
        "\n",
        "  genres:\n",
        "    dividir em 3?\n",
        "    apagar documentarios? mini series?\n",
        "\n",
        "##crew\n",
        "  join com nomes?\n",
        "\n",
        "##ratings\n",
        "  join com basics?\n",
        "\n",
        "##name_basics\n",
        "  apagar ano nascimento?\n",
        "  ano de morte?\n",
        "  oq fazer com titulos referencia?"
      ],
      "metadata": {
        "id": "j3S0Wrd5VauR"
      }
    },
    {
      "cell_type": "markdown",
      "source": [
        "#Perguntas\n",
        "##1 Quais são os melhores filmes de cada gênero? qual genero mais cresceu ao longo dos anos?\n",
        "\n",
        "##2 A guerra na ucrania afetou a quantidade de filmes de guerra?\n",
        "\n",
        "##3 O sexo do ator interfere na nota ganhada? melhores atores? teste de hipotese"
      ],
      "metadata": {
        "id": "Le2yNxZ9EVVf"
      }
    }
  ]
}